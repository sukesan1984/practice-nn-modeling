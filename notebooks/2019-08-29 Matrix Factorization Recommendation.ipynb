{
 "cells": [
  {
   "cell_type": "markdown",
   "metadata": {},
   "source": [
    "[Matrix Factorizationとは](https://qiita.com/ysekky/items/c81ff24da0390a74fc6c)"
   ]
  },
  {
   "cell_type": "code",
   "execution_count": 6,
   "metadata": {},
   "outputs": [],
   "source": [
    "from scipy.spatial.distance import cosine\n",
    "import numpy as np\n"
   ]
  },
  {
   "cell_type": "code",
   "execution_count": 7,
   "metadata": {},
   "outputs": [
    {
     "data": {
      "text/plain": [
       "0.5566055486862941"
      ]
     },
     "execution_count": 7,
     "metadata": {},
     "output_type": "execute_result"
    }
   ],
   "source": [
    "user1 = np.array([4,5,0,1,0])\n",
    "user2 = np.array([3,0,1,5,0])\n",
    "user3 = np.array([4,0,0,3,5])\n",
    "cosine(user1, user2)"
   ]
  },
  {
   "cell_type": "code",
   "execution_count": 8,
   "metadata": {},
   "outputs": [
    {
     "data": {
      "text/plain": [
       "0.3545765509594274"
      ]
     },
     "execution_count": 8,
     "metadata": {},
     "output_type": "execute_result"
    }
   ],
   "source": [
    "cosine(user2, user3)"
   ]
  },
  {
   "cell_type": "markdown",
   "metadata": {},
   "source": [
    "# やってみる"
   ]
  },
  {
   "cell_type": "code",
   "execution_count": 14,
   "metadata": {},
   "outputs": [],
   "source": [
    "def get_rating_error(r, p, q):\n",
    "    return r - np.dot(p, q)\n",
    "\n",
    "def get_error(R, P, Q, beta):\n",
    "    error = 0.0\n",
    "    for i in range(len(R)):\n",
    "        for j in range(len(R[i])):\n",
    "            if R[i][j] == 0:\n",
    "                continue\n",
    "            error += pow(get_rating_error(R[i][j], P[:, i], Q[:, j]), 2)\n",
    "    error += beta/2.0 * (np.linalg.norm(P) + np.linalg.norm(Q))\n",
    "    return error\n",
    "\n",
    "def matrix_factorization(R, K, steps=5000, alpha=0.0002, beta=0.02, threshold=0.001):\n",
    "    P = np.random.rand(K, len(R))\n",
    "    Q = np.random.rand(K, len(R[0]))\n",
    "    for step in range(steps):\n",
    "        for i in range(len(R)):\n",
    "            for j in range(len(R[i])):\n",
    "                if R[i][j] == 0:\n",
    "                    continue\n",
    "                err = get_rating_error(R[i][j], P[:, i], Q[:, j])\n",
    "                for k in range(K):\n",
    "                    P[k][i] += alpha * (2 * err * Q[k][j])\n",
    "                    Q[k][j] += alpha * (2 * err * P[k][i])\n",
    "        error = get_error(R, P, Q, beta)\n",
    "        if error < threshold:\n",
    "            break\n",
    "    return P, Q\n",
    "\n",
    "R = np.array([\n",
    "    [5, 3, 0, 1],\n",
    "    [4, 0, 0, 1],\n",
    "    [1, 1, 0, 5],\n",
    "    [1, 0, 0, 4],\n",
    "    [0, 1, 5, 4],\n",
    "])\n",
    "nP, nQ = matrix_factorization(R, 2)\n",
    "nR = np.dot(nP.T, nQ)"
   ]
  },
  {
   "cell_type": "code",
   "execution_count": 15,
   "metadata": {},
   "outputs": [
    {
     "data": {
      "text/plain": [
       "array([[5.00669129, 2.98365809, 3.05921448, 0.99342999],\n",
       "       [3.99156941, 2.39066374, 2.65599439, 0.99603995],\n",
       "       [1.04347715, 0.90145148, 5.71544439, 4.98043219],\n",
       "       [0.97998162, 0.80576275, 4.62606265, 3.98024214],\n",
       "       [1.50444144, 1.11744822, 4.9309386 , 4.06965781]])"
      ]
     },
     "execution_count": 15,
     "metadata": {},
     "output_type": "execute_result"
    }
   ],
   "source": [
    "nR"
   ]
  },
  {
   "cell_type": "code",
   "execution_count": null,
   "metadata": {},
   "outputs": [],
   "source": []
  }
 ],
 "metadata": {
  "kernelspec": {
   "display_name": "Python 3",
   "language": "python",
   "name": "python3"
  },
  "language_info": {
   "codemirror_mode": {
    "name": "ipython",
    "version": 3
   },
   "file_extension": ".py",
   "mimetype": "text/x-python",
   "name": "python",
   "nbconvert_exporter": "python",
   "pygments_lexer": "ipython3",
   "version": "3.5.2"
  }
 },
 "nbformat": 4,
 "nbformat_minor": 2
}
