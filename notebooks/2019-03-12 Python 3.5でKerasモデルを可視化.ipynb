{
 "cells": [
  {
   "cell_type": "code",
   "execution_count": 4,
   "metadata": {},
   "outputs": [],
   "source": [
    "import numpy as np\n",
    "import pydot\n",
    "from keras.datasets import imdb\n",
    "from keras.models import Sequential\n",
    "from keras.layers import Dense, LSTM\n",
    "from keras.layers.embeddings import Embedding\n",
    "from keras.preprocessing import sequence\n",
    "\n",
    "from keras.utils.vis_utils import model_to_dot\n",
    "from IPython.display import SVG\n",
    "\n"
   ]
  },
  {
   "cell_type": "code",
   "execution_count": 12,
   "metadata": {},
   "outputs": [
    {
     "data": {
      "image/svg+xml": [
       "<svg height=\"264pt\" viewBox=\"0.00 0.00 211.00 264.00\" width=\"211pt\" xmlns=\"http://www.w3.org/2000/svg\" xmlns:xlink=\"http://www.w3.org/1999/xlink\">\n",
       "<g class=\"graph\" id=\"graph0\" transform=\"scale(1 1) rotate(0) translate(4 260)\">\n",
       "<title>G</title>\n",
       "<polygon fill=\"white\" points=\"-4,4 -4,-260 207,-260 207,4 -4,4\" stroke=\"none\"/>\n",
       "<!-- 140252041620168 -->\n",
       "<g class=\"node\" id=\"node1\"><title>140252041620168</title>\n",
       "<polygon fill=\"none\" points=\"-1.42109e-14,-146.5 -1.42109e-14,-182.5 203,-182.5 203,-146.5 -1.42109e-14,-146.5\" stroke=\"black\"/>\n",
       "<text font-family=\"Times,serif\" font-size=\"14.00\" text-anchor=\"middle\" x=\"101.5\" y=\"-160.8\">embedding_4: Embedding</text>\n",
       "</g>\n",
       "<!-- 140252019609952 -->\n",
       "<g class=\"node\" id=\"node2\"><title>140252019609952</title>\n",
       "<polygon fill=\"none\" points=\"43.5,-73.5 43.5,-109.5 159.5,-109.5 159.5,-73.5 43.5,-73.5\" stroke=\"black\"/>\n",
       "<text font-family=\"Times,serif\" font-size=\"14.00\" text-anchor=\"middle\" x=\"101.5\" y=\"-87.8\">lstm_4: LSTM</text>\n",
       "</g>\n",
       "<!-- 140252041620168&#45;&gt;140252019609952 -->\n",
       "<g class=\"edge\" id=\"edge2\"><title>140252041620168-&gt;140252019609952</title>\n",
       "<path d=\"M101.5,-146.313C101.5,-138.289 101.5,-128.547 101.5,-119.569\" fill=\"none\" stroke=\"black\"/>\n",
       "<polygon fill=\"black\" points=\"105,-119.529 101.5,-109.529 98.0001,-119.529 105,-119.529\" stroke=\"black\"/>\n",
       "</g>\n",
       "<!-- 140252019611520 -->\n",
       "<g class=\"node\" id=\"node3\"><title>140252019611520</title>\n",
       "<polygon fill=\"none\" points=\"37.5,-0.5 37.5,-36.5 165.5,-36.5 165.5,-0.5 37.5,-0.5\" stroke=\"black\"/>\n",
       "<text font-family=\"Times,serif\" font-size=\"14.00\" text-anchor=\"middle\" x=\"101.5\" y=\"-14.8\">dense_4: Dense</text>\n",
       "</g>\n",
       "<!-- 140252019609952&#45;&gt;140252019611520 -->\n",
       "<g class=\"edge\" id=\"edge3\"><title>140252019609952-&gt;140252019611520</title>\n",
       "<path d=\"M101.5,-73.3129C101.5,-65.2895 101.5,-55.5475 101.5,-46.5691\" fill=\"none\" stroke=\"black\"/>\n",
       "<polygon fill=\"black\" points=\"105,-46.5288 101.5,-36.5288 98.0001,-46.5289 105,-46.5288\" stroke=\"black\"/>\n",
       "</g>\n",
       "<!-- 140252019610064 -->\n",
       "<g class=\"node\" id=\"node4\"><title>140252019610064</title>\n",
       "<polygon fill=\"none\" points=\"25.5,-219.5 25.5,-255.5 177.5,-255.5 177.5,-219.5 25.5,-219.5\" stroke=\"black\"/>\n",
       "<text font-family=\"Times,serif\" font-size=\"14.00\" text-anchor=\"middle\" x=\"101.5\" y=\"-233.8\">140252019610064</text>\n",
       "</g>\n",
       "<!-- 140252019610064&#45;&gt;140252041620168 -->\n",
       "<g class=\"edge\" id=\"edge1\"><title>140252019610064-&gt;140252041620168</title>\n",
       "<path d=\"M101.5,-219.313C101.5,-211.289 101.5,-201.547 101.5,-192.569\" fill=\"none\" stroke=\"black\"/>\n",
       "<polygon fill=\"black\" points=\"105,-192.529 101.5,-182.529 98.0001,-192.529 105,-192.529\" stroke=\"black\"/>\n",
       "</g>\n",
       "</g>\n",
       "</svg>"
      ],
      "text/plain": [
       "<IPython.core.display.SVG object>"
      ]
     },
     "execution_count": 12,
     "metadata": {},
     "output_type": "execute_result"
    }
   ],
   "source": [
    "np.random.seed(7)\n",
    "top_words = 5000\n",
    "(x_train, y_train), (x_test, y_test) = imdb.load_data(num_words=top_words)\n",
    "\n",
    "max_review_length = 500\n",
    "x_train = sequence.pad_sequences(x_train, maxlen=max_review_length)\n",
    "x_test = sequence.pad_sequences(x_test, maxlen=max_review_length)\n",
    "\n",
    "embedding_vector_length = 32\n",
    "model = Sequential()\n",
    "model.add(Embedding(top_words, embedding_vector_length, input_length=max_review_length))\n",
    "model.add(LSTM(100))\n",
    "model.add(Dense(1, activation='sigmoid'))\n",
    "model.compile(loss='binary_crossentropy', optimizer='adam', metrics=['accuracy'])\n",
    "#model.compile(loss='binary_crossentropy', optimizer='adam',　metrics=['accuracy'])\n",
    "# ここでモデルを可視化する。\n",
    "SVG(model_to_dot(model).create(prog='dot', format='svg'))"
   ]
  },
  {
   "cell_type": "code",
   "execution_count": null,
   "metadata": {},
   "outputs": [
    {
     "name": "stdout",
     "output_type": "stream",
     "text": [
      "Train on 25000 samples, validate on 25000 samples\n",
      "Epoch 1/3\n",
      "25000/25000 [==============================] - 330s 13ms/step - loss: 0.5039 - acc: 0.7523 - val_loss: 0.3461 - val_acc: 0.8548\n",
      "Epoch 2/3\n",
      "25000/25000 [==============================] - 350s 14ms/step - loss: 0.2897 - acc: 0.8822 - val_loss: 0.3050 - val_acc: 0.8728\n",
      "Epoch 3/3\n",
      "25000/25000 [==============================] - 339s 14ms/step - loss: 0.2987 - acc: 0.8768 - val_loss: 0.3782 - val_acc: 0.8322\n"
     ]
    }
   ],
   "source": [
    "model.fit(x_train, y_train, validation_data=(x_test, y_test), epochs=3, batch_size=64)\n",
    "scores = model.evaluate(x_test, y_test, verbose=0)\n",
    "print (\"accuracy: %.3f%%\" % (scores[1]*100))"
   ]
  },
  {
   "cell_type": "code",
   "execution_count": null,
   "metadata": {},
   "outputs": [],
   "source": []
  }
 ],
 "metadata": {
  "kernelspec": {
   "display_name": "Python 3",
   "language": "python",
   "name": "python3"
  },
  "language_info": {
   "codemirror_mode": {
    "name": "ipython",
    "version": 3
   },
   "file_extension": ".py",
   "mimetype": "text/x-python",
   "name": "python",
   "nbconvert_exporter": "python",
   "pygments_lexer": "ipython3",
   "version": "3.5.2"
  }
 },
 "nbformat": 4,
 "nbformat_minor": 2
}
